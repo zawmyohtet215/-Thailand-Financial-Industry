{
 "cells": [
  {
   "cell_type": "code",
   "execution_count": 1,
   "metadata": {
    "executionInfo": {
     "elapsed": 1270,
     "status": "ok",
     "timestamp": 1662526612585,
     "user": {
      "displayName": "Zawmyo Htet",
      "userId": "12501030282531901303"
     },
     "user_tz": -390
    },
    "id": "dmkMc1SsAv1q"
   },
   "outputs": [],
   "source": [
    "import pandas as pd\n",
    "from tqdm import tqdm\n",
    "import os"
   ]
  },
  {
   "cell_type": "code",
   "execution_count": 2,
   "metadata": {
    "executionInfo": {
     "elapsed": 566,
     "status": "ok",
     "timestamp": 1662526624774,
     "user": {
      "displayName": "Zawmyo Htet",
      "userId": "12501030282531901303"
     },
     "user_tz": -390
    },
    "id": "d8NhtEbYBOue"
   },
   "outputs": [],
   "source": [
    "#!pip install xlrd==1.2.0"
   ]
  },
  {
   "cell_type": "code",
   "execution_count": 6,
   "metadata": {},
   "outputs": [],
   "source": [
    "file_paths = ['D:\\\\2021 thai data\\\\commercial_bank\\\\',\n",
    "              'D:\\\\2021 thai data\\\\credit_company\\\\',\n",
    "              'D:\\\\2021 thai data\\\\finance_company\\\\']"
   ]
  },
  {
   "cell_type": "code",
   "execution_count": 7,
   "metadata": {
    "executionInfo": {
     "elapsed": 632,
     "status": "ok",
     "timestamp": 1662526687660,
     "user": {
      "displayName": "Zawmyo Htet",
      "userId": "12501030282531901303"
     },
     "user_tz": -390
    },
    "id": "45fO5tk7TzU9"
   },
   "outputs": [
    {
     "name": "stdout",
     "output_type": "stream",
     "text": [
      "commercial_bank\n"
     ]
    },
    {
     "name": "stderr",
     "output_type": "stream",
     "text": [
      "100%|████████████████████████████████████████████████████████████████████████████████| 132/132 [01:32<00:00,  1.43it/s]\n"
     ]
    },
    {
     "name": "stdout",
     "output_type": "stream",
     "text": [
      "commercial_bank is completed.\n",
      "credit_company\n"
     ]
    },
    {
     "name": "stderr",
     "output_type": "stream",
     "text": [
      "100%|██████████████████████████████████████████████████████████████████████████████████| 21/21 [00:04<00:00,  4.68it/s]\n"
     ]
    },
    {
     "name": "stdout",
     "output_type": "stream",
     "text": [
      "credit_company is completed.\n",
      "finance_company\n"
     ]
    },
    {
     "name": "stderr",
     "output_type": "stream",
     "text": [
      "100%|██████████████████████████████████████████████████████████████████████████████████| 14/14 [00:07<00:00,  1.97it/s]"
     ]
    },
    {
     "name": "stdout",
     "output_type": "stream",
     "text": [
      "finance_company is completed.\n"
     ]
    },
    {
     "name": "stderr",
     "output_type": "stream",
     "text": [
      "\n"
     ]
    }
   ],
   "source": [
    "final_values = []\n",
    "for file_path in file_paths:\n",
    "    files = os.listdir(file_path)\n",
    "    company_type_ref = file_path.split('\\\\')[-2]\n",
    "    print(company_type_ref)\n",
    "    \n",
    "    for file in tqdm(files):\n",
    "        df = pd.read_excel(file_path + file)\n",
    "\n",
    "        #change cols name\n",
    "        df.columns = ['A','B','C','D','E','F','G','H','I']\n",
    "\n",
    "        #extract company name\n",
    "        company_name = df['B'].values[0]\n",
    "\n",
    "        #extract month & year\n",
    "        month = df['B'].values[3].split(' ')[-2]\n",
    "        year = df['B'].values[3].split(' ')[-1]\n",
    "\n",
    "        ################################ extract Assets ###################################\n",
    "\n",
    "        # extract assets using index\n",
    "        asset_start = df[df['B']=='Assets'].index[0]\n",
    "        asset_stop = df[df['B']=='      Total assets'].index[0]\n",
    "\n",
    "        #slice dataframe\n",
    "        df_asset = df.iloc[asset_start+1:asset_stop]\n",
    "\n",
    "        #drop unnecessary cols\n",
    "        df_asset = df_asset[['B','E']]\n",
    "\n",
    "        # drop na\n",
    "        df_asset = df_asset.dropna(subset=['B'])\n",
    "\n",
    "        main_category = 'Assets'\n",
    "        if company_type_ref == 'credit_company':\n",
    "            company_type = 'Credit Company'\n",
    "        elif company_type_ref == 'finance_company':\n",
    "            company_type = 'Finance Company'\n",
    "        elif company_type_ref == 'commercial_bank':\n",
    "            company_type = 'Commercial Bank'\n",
    "\n",
    "        company_name\n",
    "        month\n",
    "        year\n",
    "\n",
    "        assets_values = []\n",
    "        for index, row in df_asset.iterrows():\n",
    "            sub_category = row[0]\n",
    "            amount = row[1]\n",
    "            value = [main_category, sub_category, amount, company_name, company_type, month, year]\n",
    "            assets_values.append(value)\n",
    "\n",
    "        ############################## extract Liabilities ######################################\n",
    "\n",
    "        # extract liabilities using index\n",
    "        liability_start = df[df['F']=='Liabilities'].index[0]\n",
    "        liability_end = df[df['F']=='   Total liabilities'].index[0]\n",
    "\n",
    "        # slice dataframe\n",
    "        df_liability = df.iloc[liability_start+1:liability_end]\n",
    "\n",
    "        # drop unnecessary cols\n",
    "        df_liability = df_liability[['F','I']]\n",
    "\n",
    "        # drop null\n",
    "        df_liability = df_liability.dropna(subset=['F'])\n",
    "\n",
    "        main_category = 'Liabilities'\n",
    "        company_type\n",
    "        company_name\n",
    "        month\n",
    "        year\n",
    "\n",
    "        liabilities_values = []\n",
    "        for index, row in df_liability.iterrows():\n",
    "            sub_category = row[0]\n",
    "            amount = row[1]\n",
    "            value = [main_category, sub_category, amount, company_name, company_type, month, year]\n",
    "            liabilities_values.append(value)\n",
    "\n",
    "        ###################################### extract shareholder's equity ##################################\n",
    "\n",
    "        # extract equities using index\n",
    "        equity_start = df[df['F']==\"Shareholders' equity\"].index[0]\n",
    "        equity_end = df[df['F']==\"   Total shareholders' equity\"].index[0]\n",
    "\n",
    "        # slice dataframe\n",
    "        df_equity = df.iloc[equity_start+1: equity_end]\n",
    "\n",
    "        # drop unnecessary cols\n",
    "        df_equity = df_equity[['F','I']]\n",
    "\n",
    "        # drop null\n",
    "        df_equity = df_equity.dropna(subset=['F'])\n",
    "\n",
    "        main_category = \"Equity\"\n",
    "        company_type\n",
    "        company_name\n",
    "        month\n",
    "        year\n",
    "\n",
    "        equity_values = []\n",
    "        for index, row in df_equity.iterrows():\n",
    "            sub_category = row[0]\n",
    "            amount = row[1]\n",
    "            value = [main_category, sub_category, amount, company_name, company_type, month, year]\n",
    "            equity_values.append(value)\n",
    "\n",
    "        ####################################### output ###############################\n",
    "\n",
    "        value = assets_values + liabilities_values + equity_values\n",
    "\n",
    "        final_values = final_values + value\n",
    "    print(company_type_ref + ' is completed.')"
   ]
  },
  {
   "cell_type": "code",
   "execution_count": 8,
   "metadata": {
    "colab": {
     "base_uri": "https://localhost:8080/",
     "height": 1000
    },
    "executionInfo": {
     "elapsed": 7,
     "status": "ok",
     "timestamp": 1662440998589,
     "user": {
      "displayName": "Zawmyo Htet",
      "userId": "12501030282531901303"
     },
     "user_tz": -390
    },
    "id": "6uYaFhe9Kw9V",
    "outputId": "b992fa60-00f4-432a-a813-ca17cb2f5cf6"
   },
   "outputs": [
    {
     "data": {
      "text/html": [
       "<div>\n",
       "<style scoped>\n",
       "    .dataframe tbody tr th:only-of-type {\n",
       "        vertical-align: middle;\n",
       "    }\n",
       "\n",
       "    .dataframe tbody tr th {\n",
       "        vertical-align: top;\n",
       "    }\n",
       "\n",
       "    .dataframe thead th {\n",
       "        text-align: right;\n",
       "    }\n",
       "</style>\n",
       "<table border=\"1\" class=\"dataframe\">\n",
       "  <thead>\n",
       "    <tr style=\"text-align: right;\">\n",
       "      <th></th>\n",
       "      <th>Category</th>\n",
       "      <th>Sub Category</th>\n",
       "      <th>Amount</th>\n",
       "      <th>Company Name</th>\n",
       "      <th>Company Type</th>\n",
       "      <th>Month</th>\n",
       "      <th>Year</th>\n",
       "    </tr>\n",
       "  </thead>\n",
       "  <tbody>\n",
       "    <tr>\n",
       "      <th>0</th>\n",
       "      <td>Assets</td>\n",
       "      <td>Cash</td>\n",
       "      <td>62118263000</td>\n",
       "      <td>BANGKOK BANK PUBLIC COMPANY LTD.</td>\n",
       "      <td>Commercial Bank</td>\n",
       "      <td>January</td>\n",
       "      <td>2021</td>\n",
       "    </tr>\n",
       "    <tr>\n",
       "      <th>1</th>\n",
       "      <td>Assets</td>\n",
       "      <td>Interbank and money market items - net</td>\n",
       "      <td>482286491000</td>\n",
       "      <td>BANGKOK BANK PUBLIC COMPANY LTD.</td>\n",
       "      <td>Commercial Bank</td>\n",
       "      <td>January</td>\n",
       "      <td>2021</td>\n",
       "    </tr>\n",
       "    <tr>\n",
       "      <th>2</th>\n",
       "      <td>Assets</td>\n",
       "      <td>Financial assets measured at fair value throug...</td>\n",
       "      <td>73114994000</td>\n",
       "      <td>BANGKOK BANK PUBLIC COMPANY LTD.</td>\n",
       "      <td>Commercial Bank</td>\n",
       "      <td>January</td>\n",
       "      <td>2021</td>\n",
       "    </tr>\n",
       "    <tr>\n",
       "      <th>3</th>\n",
       "      <td>Assets</td>\n",
       "      <td>Derivatives assets</td>\n",
       "      <td>61118051000</td>\n",
       "      <td>BANGKOK BANK PUBLIC COMPANY LTD.</td>\n",
       "      <td>Commercial Bank</td>\n",
       "      <td>January</td>\n",
       "      <td>2021</td>\n",
       "    </tr>\n",
       "    <tr>\n",
       "      <th>4</th>\n",
       "      <td>Assets</td>\n",
       "      <td>Investments - net</td>\n",
       "      <td>609555556000</td>\n",
       "      <td>BANGKOK BANK PUBLIC COMPANY LTD.</td>\n",
       "      <td>Commercial Bank</td>\n",
       "      <td>January</td>\n",
       "      <td>2021</td>\n",
       "    </tr>\n",
       "    <tr>\n",
       "      <th>...</th>\n",
       "      <td>...</td>\n",
       "      <td>...</td>\n",
       "      <td>...</td>\n",
       "      <td>...</td>\n",
       "      <td>...</td>\n",
       "      <td>...</td>\n",
       "      <td>...</td>\n",
       "    </tr>\n",
       "    <tr>\n",
       "      <th>3230</th>\n",
       "      <td>Liabilities</td>\n",
       "      <td>Debt issued and borrowings</td>\n",
       "      <td>6000000000</td>\n",
       "      <td>SRISAWAD FINANCE PUBLIC COMPANY LIMITED</td>\n",
       "      <td>Finance Company</td>\n",
       "      <td>July</td>\n",
       "      <td>2021</td>\n",
       "    </tr>\n",
       "    <tr>\n",
       "      <th>3231</th>\n",
       "      <td>Liabilities</td>\n",
       "      <td>Other liabilities</td>\n",
       "      <td>4498840952000</td>\n",
       "      <td>SRISAWAD FINANCE PUBLIC COMPANY LIMITED</td>\n",
       "      <td>Finance Company</td>\n",
       "      <td>July</td>\n",
       "      <td>2021</td>\n",
       "    </tr>\n",
       "    <tr>\n",
       "      <th>3232</th>\n",
       "      <td>Equity</td>\n",
       "      <td>Equity portion</td>\n",
       "      <td>7055964677000</td>\n",
       "      <td>SRISAWAD FINANCE PUBLIC COMPANY LIMITED</td>\n",
       "      <td>Finance Company</td>\n",
       "      <td>July</td>\n",
       "      <td>2021</td>\n",
       "    </tr>\n",
       "    <tr>\n",
       "      <th>3233</th>\n",
       "      <td>Equity</td>\n",
       "      <td>Other reserves</td>\n",
       "      <td>0</td>\n",
       "      <td>SRISAWAD FINANCE PUBLIC COMPANY LIMITED</td>\n",
       "      <td>Finance Company</td>\n",
       "      <td>July</td>\n",
       "      <td>2021</td>\n",
       "    </tr>\n",
       "    <tr>\n",
       "      <th>3234</th>\n",
       "      <td>Equity</td>\n",
       "      <td>Retained earnings</td>\n",
       "      <td>2387522003000</td>\n",
       "      <td>SRISAWAD FINANCE PUBLIC COMPANY LIMITED</td>\n",
       "      <td>Finance Company</td>\n",
       "      <td>July</td>\n",
       "      <td>2021</td>\n",
       "    </tr>\n",
       "  </tbody>\n",
       "</table>\n",
       "<p>3235 rows × 7 columns</p>\n",
       "</div>"
      ],
      "text/plain": [
       "         Category                                       Sub Category  \\\n",
       "0          Assets                                               Cash   \n",
       "1          Assets             Interbank and money market items - net   \n",
       "2          Assets  Financial assets measured at fair value throug...   \n",
       "3          Assets                                 Derivatives assets   \n",
       "4          Assets                                  Investments - net   \n",
       "...           ...                                                ...   \n",
       "3230  Liabilities                         Debt issued and borrowings   \n",
       "3231  Liabilities                                  Other liabilities   \n",
       "3232       Equity                                     Equity portion   \n",
       "3233       Equity                                     Other reserves   \n",
       "3234       Equity                                  Retained earnings   \n",
       "\n",
       "             Amount                             Company Name     Company Type  \\\n",
       "0       62118263000         BANGKOK BANK PUBLIC COMPANY LTD.  Commercial Bank   \n",
       "1      482286491000         BANGKOK BANK PUBLIC COMPANY LTD.  Commercial Bank   \n",
       "2       73114994000         BANGKOK BANK PUBLIC COMPANY LTD.  Commercial Bank   \n",
       "3       61118051000         BANGKOK BANK PUBLIC COMPANY LTD.  Commercial Bank   \n",
       "4      609555556000         BANGKOK BANK PUBLIC COMPANY LTD.  Commercial Bank   \n",
       "...             ...                                      ...              ...   \n",
       "3230     6000000000  SRISAWAD FINANCE PUBLIC COMPANY LIMITED  Finance Company   \n",
       "3231  4498840952000  SRISAWAD FINANCE PUBLIC COMPANY LIMITED  Finance Company   \n",
       "3232  7055964677000  SRISAWAD FINANCE PUBLIC COMPANY LIMITED  Finance Company   \n",
       "3233              0  SRISAWAD FINANCE PUBLIC COMPANY LIMITED  Finance Company   \n",
       "3234  2387522003000  SRISAWAD FINANCE PUBLIC COMPANY LIMITED  Finance Company   \n",
       "\n",
       "        Month  Year  \n",
       "0     January  2021  \n",
       "1     January  2021  \n",
       "2     January  2021  \n",
       "3     January  2021  \n",
       "4     January  2021  \n",
       "...       ...   ...  \n",
       "3230     July  2021  \n",
       "3231     July  2021  \n",
       "3232     July  2021  \n",
       "3233     July  2021  \n",
       "3234     July  2021  \n",
       "\n",
       "[3235 rows x 7 columns]"
      ]
     },
     "execution_count": 8,
     "metadata": {},
     "output_type": "execute_result"
    }
   ],
   "source": [
    "out_df = pd.DataFrame(final_values)\n",
    "\n",
    "out_df.columns = ['Category','Sub Category','Amount','Company Name', 'Company Type','Month','Year']\n",
    "\n",
    "#convert from thousands\n",
    "out_df['Amount'] = out_df['Amount']*1000\n",
    "\n",
    "out_df"
   ]
  },
  {
   "cell_type": "code",
   "execution_count": 9,
   "metadata": {},
   "outputs": [
    {
     "name": "stdout",
     "output_type": "stream",
     "text": [
      "Enter the month update (april, may, etc.): july\n"
     ]
    }
   ],
   "source": [
    "month_update = input(\"Enter the month update (april, may, etc.): \")\n",
    "\n",
    "out_df.to_excel('output/commercial_credit_finance_'+month_update+'_update_2021.xlsx', index=False)"
   ]
  },
  {
   "cell_type": "code",
   "execution_count": null,
   "metadata": {},
   "outputs": [],
   "source": []
  }
 ],
 "metadata": {
  "colab": {
   "authorship_tag": "ABX9TyMJ1TxRxQzuawbWpyaOL6kr",
   "collapsed_sections": [],
   "mount_file_id": "1LV4V59RC3f58-29NSrFVDLYwTOFY49Tx",
   "provenance": []
  },
  "kernelspec": {
   "display_name": "Python 3 (ipykernel)",
   "language": "python",
   "name": "python3"
  },
  "language_info": {
   "codemirror_mode": {
    "name": "ipython",
    "version": 3
   },
   "file_extension": ".py",
   "mimetype": "text/x-python",
   "name": "python",
   "nbconvert_exporter": "python",
   "pygments_lexer": "ipython3",
   "version": "3.9.7"
  }
 },
 "nbformat": 4,
 "nbformat_minor": 1
}
